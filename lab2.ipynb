{
 "cells": [
  {
   "cell_type": "markdown",
   "metadata": {},
   "source": [
    "# Lab 2 - Simple CNN"
   ]
  },
  {
   "cell_type": "code",
   "execution_count": 1,
   "metadata": {},
   "outputs": [],
   "source": [
    "import torch, torchvision\n",
    "import matplotlib.pyplot as plt"
   ]
  },
  {
   "cell_type": "code",
   "execution_count": 2,
   "metadata": {},
   "outputs": [],
   "source": [
    "mnist_ds_train = torchvision.datasets.MNIST(\n",
    "    \"./lab2_data/\",\n",
    "    train=True,\n",
    "    download=True,\n",
    "    transform=torchvision.transforms.ToTensor(),\n",
    ")\n",
    "\n",
    "fashion_mnist_ds_train = torchvision.datasets.FashionMNIST(\n",
    "    \"./lab2_data/\",\n",
    "    train=True,\n",
    "    download=True,\n",
    "    transform=torchvision.transforms.ToTensor(),\n",
    ")\n",
    "\n",
    "mnist_ds_test = torchvision.datasets.MNIST(\n",
    "    \"./lab2_data/\",\n",
    "    train=False,\n",
    "    download=True,\n",
    "    transform=torchvision.transforms.ToTensor(),\n",
    ")\n",
    "\n",
    "fashion_mnist_ds_test = torchvision.datasets.FashionMNIST(\n",
    "    \"./lab2_data/\",\n",
    "    train=False,\n",
    "    download=True,\n",
    "    transform=torchvision.transforms.ToTensor(),\n",
    ")"
   ]
  },
  {
   "cell_type": "code",
   "execution_count": 3,
   "metadata": {},
   "outputs": [],
   "source": [
    "from torch.utils.data import Dataset, DataLoader\n",
    "\n",
    "\n",
    "class LeftOrRightDataset(Dataset):\n",
    "    def __init__(self, mnist_ds: Dataset, fashion_mnist_ds: Dataset) -> None:\n",
    "        assert len(mnist_ds) == len(fashion_mnist_ds)\n",
    "\n",
    "        self.images = []\n",
    "\n",
    "        mnist_loader = DataLoader(mnist_ds, batch_size=1, shuffle=True, num_workers=0)\n",
    "        fashion_left_loader = DataLoader(\n",
    "            fashion_mnist_ds, batch_size=1, shuffle=True, num_workers=0\n",
    "        )\n",
    "\n",
    "        fashion_right_loader = DataLoader(\n",
    "            fashion_mnist_ds, batch_size=1, shuffle=True, num_workers=0\n",
    "        )\n",
    "\n",
    "        for (mnist, left_fashion, right_fashion) in zip(\n",
    "            mnist_loader, fashion_left_loader, fashion_right_loader\n",
    "        ):\n",
    "            new_image = torch.cat((left_fashion[0].squeeze(0), mnist[0].squeeze(0), right_fashion[0].squeeze(0)), 2)\n",
    "            new_label = left_fashion[1] if mnist[1] % 2 == 0 else right_fashion[1] \n",
    "            self.images.append((new_image, new_label))\n",
    "\n",
    "    def __len__(self):\n",
    "        return len(self.images)\n",
    "    \n",
    "    def __getitem__(self, idx):\n",
    "        img, label = self.images[idx]\n",
    "        return img, label"
   ]
  },
  {
   "cell_type": "code",
   "execution_count": 4,
   "metadata": {},
   "outputs": [],
   "source": [
    "ds_train = LeftOrRightDataset(mnist_ds_train, fashion_mnist_ds_train)\n",
    "ds_test = LeftOrRightDataset(mnist_ds_test, fashion_mnist_ds_test)"
   ]
  },
  {
   "cell_type": "code",
   "execution_count": 5,
   "metadata": {},
   "outputs": [
    {
     "data": {
      "text/plain": [
       "(60000, 10000)"
      ]
     },
     "execution_count": 5,
     "metadata": {},
     "output_type": "execute_result"
    }
   ],
   "source": [
    "len(ds_train), len(ds_test)"
   ]
  },
  {
   "cell_type": "markdown",
   "metadata": {},
   "source": [
    "Fashion MNIST labels:\n",
    "* 0 T-shirt/top\n",
    "* 1 Trouser\n",
    "* 2 Pullover\n",
    "* 3 Dress\n",
    "* 4 Coat\n",
    "* 5 Sandal\n",
    "* 6 Shirt\n",
    "* 7 Sneaker\n",
    "* 8 Bag\n",
    "* 9 Ankle boot"
   ]
  },
  {
   "cell_type": "code",
   "execution_count": 6,
   "metadata": {},
   "outputs": [
    {
     "name": "stdout",
     "output_type": "stream",
     "text": [
      "tensor([6])\n"
     ]
    },
    {
     "data": {
      "image/png": "[encoded data removed]",
      "text/plain": [
       "<Figure size 432x288 with 1 Axes>"
      ]
     },
     "metadata": {
      "needs_background": "light"
     },
     "output_type": "display_data"
    }
   ],
   "source": [
    "plt.imshow(ds_train[42][0].permute(1,2,0).numpy())\n",
    "print(ds_train[42][1])"
   ]
  },
  {
   "cell_type": "code",
   "execution_count": 7,
   "metadata": {},
   "outputs": [
    {
     "name": "stdout",
     "output_type": "stream",
     "text": [
      "tensor([3])\n"
     ]
    },
    {
     "data": {
      "image/png": "[encoded data removed]",
      "text/plain": [
       "<Figure size 432x288 with 1 Axes>"
      ]
     },
     "metadata": {
      "needs_background": "light"
     },
     "output_type": "display_data"
    }
   ],
   "source": [
    "plt.imshow(ds_train[2137][0].permute(1,2,0).numpy())\n",
    "print(ds_train[2137][1])"
   ]
  },
  {
   "cell_type": "code",
   "execution_count": 8,
   "metadata": {},
   "outputs": [],
   "source": [
    "import torch.nn as nn\n",
    "import torch.nn.functional as F\n",
    "\n",
    "class LeftOrRightClassifier(nn.Module):\n",
    "    def __init__(self):\n",
    "        super(LeftOrRightClassifier, self).__init__()\n",
    "\n",
    "        self.net = nn.Sequential(\n",
    "            nn.Conv2d(1, 32, 3, padding=1),\n",
    "            nn.ReLU(),\n",
    "            nn.MaxPool2d(2),\n",
    "            nn.Conv2d(32, 64, 3, padding=1),\n",
    "            nn.ReLU(),\n",
    "            nn.MaxPool2d(2),\n",
    "            nn.Conv2d(64, 64, 3, padding=1),\n",
    "            nn.ReLU(),\n",
    "            nn.MaxPool2d(2),\n",
    "            nn.Flatten(),\n",
    "            nn.Dropout(0.5),\n",
    "            nn.Linear(1920, 32),\n",
    "            nn.ReLU(),\n",
    "            nn.Linear(32, 10),\n",
    "        )\n",
    "\n",
    "    def forward(self, x):\n",
    "        return self.net(x)"
   ]
  },
  {
   "cell_type": "code",
   "execution_count": 9,
   "metadata": {},
   "outputs": [
    {
     "data": {
      "text/plain": [
       "torch.Size([1, 10])"
      ]
     },
     "execution_count": 9,
     "metadata": {},
     "output_type": "execute_result"
    }
   ],
   "source": [
    "model = LeftOrRightClassifier().to(\"cuda\")\n",
    "model(ds_train[42][0].unsqueeze(0).to(\"cuda\")).shape"
   ]
  },
  {
   "cell_type": "code",
   "execution_count": 10,
   "metadata": {},
   "outputs": [],
   "source": [
    "import torch.optim as optim\n",
    "loss_function = nn.CrossEntropyLoss()\n",
    "optimizer = optim.Adam(model.parameters(),lr=0.001)"
   ]
  },
  {
   "cell_type": "code",
   "execution_count": 11,
   "metadata": {},
   "outputs": [
    {
     "name": "stdout",
     "output_type": "stream",
     "text": [
      "Epoch: 1 / 15 \t\t\t Training Loss:1.632214711574798\n",
      "Epoch: 2 / 15 \t\t\t Training Loss:1.245061680357507\n",
      "Epoch: 3 / 15 \t\t\t Training Loss:0.9721017449460131\n",
      "Epoch: 4 / 15 \t\t\t Training Loss:0.8041727461713426\n",
      "Epoch: 5 / 15 \t\t\t Training Loss:0.6986042291560072\n",
      "Epoch: 6 / 15 \t\t\t Training Loss:0.6367295431329849\n",
      "Epoch: 7 / 15 \t\t\t Training Loss:0.5915303292426657\n",
      "Epoch: 8 / 15 \t\t\t Training Loss:0.5560219240949509\n",
      "Epoch: 9 / 15 \t\t\t Training Loss:0.524720121190903\n",
      "Epoch: 10 / 15 \t\t\t Training Loss:0.5064370012029689\n",
      "Epoch: 11 / 15 \t\t\t Training Loss:0.48639035719506285\n",
      "Epoch: 12 / 15 \t\t\t Training Loss:0.46986726002490264\n",
      "Epoch: 13 / 15 \t\t\t Training Loss:0.44903675444582675\n",
      "Epoch: 14 / 15 \t\t\t Training Loss:0.43670957126515975\n",
      "Epoch: 15 / 15 \t\t\t Training Loss:0.42812409692622244\n"
     ]
    }
   ],
   "source": [
    "EPOCHS = 15\n",
    "BATCH_SIZE = 256\n",
    "\n",
    "train_dataloader = DataLoader(ds_train, batch_size=BATCH_SIZE, shuffle=True)\n",
    "\n",
    "for i in range(EPOCHS):\n",
    "    train_loss = 0.0\n",
    "    for data, labels in train_dataloader:\n",
    "        data, labels = data.to(\"cuda\"), labels.to(\"cuda\").squeeze(1)\n",
    "        optimizer.zero_grad()\n",
    "\n",
    "        output = model(data)\n",
    "        loss = loss_function(output, labels)\n",
    "        loss.backward()\n",
    "\n",
    "        optimizer.step()\n",
    "\n",
    "        train_loss += loss.item()\n",
    "    print(\n",
    "        f\"Epoch: {i+1} / {EPOCHS} \\t\\t\\t Training Loss:{train_loss/len(train_dataloader)}\"\n",
    "    )"
   ]
  },
  {
   "cell_type": "code",
   "execution_count": 12,
   "metadata": {},
   "outputs": [
    {
     "name": "stdout",
     "output_type": "stream",
     "text": [
      "tensor([[2.7582e-03, 1.5149e-03, 1.8997e-03, 6.5451e-02, 7.7429e-03, 9.1902e-02,\n",
      "         1.8530e-02, 8.6175e+01, 7.6604e-03, 1.3628e+01]], device='cuda:0')\n",
      "tensor([7])\n"
     ]
    },
    {
     "data": {
      "image/png": "[encoded data removed]",
      "text/plain": [
       "<Figure size 432x288 with 1 Axes>"
      ]
     },
     "metadata": {
      "needs_background": "light"
     },
     "output_type": "display_data"
    }
   ],
   "source": [
    "plt.imshow(ds_test[420][0].permute(1,2,0).numpy())\n",
    "with torch.inference_mode():\n",
    "    print(F.softmax(model(ds_test[420][0].unsqueeze(0).to(\"cuda\")), 1) * 100)\n",
    "    print(ds_test[420][1]) "
   ]
  },
  {
   "cell_type": "code",
   "execution_count": 15,
   "metadata": {},
   "outputs": [
    {
     "name": "stdout",
     "output_type": "stream",
     "text": [
      "tensor([[1.6927e-03, 2.5039e-01, 3.0821e-01, 7.9460e-02, 5.8386e-01, 9.4560e+01,\n",
      "         1.6592e-02, 3.7384e+00, 4.7109e-02, 4.1403e-01]], device='cuda:0')\n",
      "tensor([5])\n"
     ]
    },
    {
     "data": {
      "image/png": "[encoded data removed]",
      "text/plain": [
       "<Figure size 432x288 with 1 Axes>"
      ]
     },
     "metadata": {
      "needs_background": "light"
     },
     "output_type": "display_data"
    }
   ],
   "source": [
    "plt.imshow(ds_test[256][0].permute(1,2,0).numpy())\n",
    "with torch.inference_mode():\n",
    "    print(F.softmax(model(ds_test[256][0].unsqueeze(0).to(\"cuda\")), 1) * 100)\n",
    "    print(ds_test[256][1]) "
   ]
  },
  {
   "cell_type": "markdown",
   "metadata": {},
   "source": [
    "Fashion MNIST labels:\n",
    "* 0 T-shirt/top\n",
    "* 1 Trouser\n",
    "* 2 Pullover\n",
    "* 3 Dress\n",
    "* 4 Coat\n",
    "* 5 Sandal\n",
    "* 6 Shirt\n",
    "* 7 Sneaker\n",
    "* 8 Bag\n",
    "* 9 Ankle boot"
   ]
  },
  {
   "cell_type": "code",
   "execution_count": 14,
   "metadata": {},
   "outputs": [
    {
     "name": "stdout",
     "output_type": "stream",
     "text": [
      "Testing Loss:0.46781594660133125\n",
      "Accuracy: 0.81064453125\n"
     ]
    }
   ],
   "source": [
    "test_dataloader = DataLoader(ds_test, batch_size=256, shuffle=True)\n",
    "with torch.no_grad():\n",
    "    test_loss = 0.0\n",
    "    TP = 0\n",
    "\n",
    "    for data, labels in test_dataloader:\n",
    "        data, labels = data.to(\"cuda\"), labels.to(\"cuda\").squeeze(1)\n",
    "        output = model(data)\n",
    "        for o, l in zip(torch.argmax(output, axis=1), labels):\n",
    "            if o == l:\n",
    "                TP += 1\n",
    "\n",
    "        loss = loss_function(output, labels)\n",
    "        test_loss += loss.item()\n",
    "    print(f\"Testing Loss:{test_loss/len(test_dataloader)}\")\n",
    "    print(f\"Accuracy: {TP / len(test_dataloader) / BATCH_SIZE}\")"
   ]
  },
  {
   "cell_type": "code",
   "execution_count": null,
   "metadata": {},
   "outputs": [],
   "source": []
  },
  {
   "cell_type": "code",
   "execution_count": null,
   "metadata": {},
   "outputs": [],
   "source": []
  },
  {
   "cell_type": "code",
   "execution_count": null,
   "metadata": {},
   "outputs": [],
   "source": []
  }
 ],
 "metadata": {
  "kernelspec": {
   "display_name": "Python 3",
   "language": "python",
   "name": "python3"
  },
  "language_info": {
   "codemirror_mode": {
    "name": "ipython",
    "version": 3
   },
   "file_extension": ".py",
   "mimetype": "text/x-python",
   "name": "python",
   "nbconvert_exporter": "python",
   "pygments_lexer": "ipython3",
   "version": "3.8.10"
  }
 },
 "nbformat": 4,
 "nbformat_minor": 2
}
